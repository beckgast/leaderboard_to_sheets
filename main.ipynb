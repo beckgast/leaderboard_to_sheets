{
 "cells": [
  {
   "cell_type": "code",
   "execution_count": 4,
   "metadata": {
    "collapsed": true,
    "pycharm": {
     "name": "#%%\n"
    }
   },
   "outputs": [],
   "source": [
    "import pandas as pd\n",
    "import helper"
   ]
  },
  {
   "cell_type": "code",
   "execution_count": 2,
   "outputs": [
    {
     "data": {
      "text/plain": "                        datetime              user score\n0     2022-01-09 20:05:02.667549              skip  0:41\n1     2022-01-09 20:05:02.667549              beck   NaN\n2     2022-01-09 20:05:02.667549            jenliz   NaN\n3     2022-01-09 20:05:02.667549             lilli   NaN\n4     2022-01-09 20:05:02.667549  marvin.kassabian   NaN\n...                          ...               ...   ...\n38621 2022-05-07 11:29:56.197510              beck  2:19\n38622 2022-05-07 11:29:56.197510            jenliz  2:32\n38623 2022-05-07 11:29:56.197510             lilli   NaN\n38624 2022-05-07 11:29:56.197510             Scott   NaN\n38625 2022-05-07 11:29:56.197510              skip   NaN\n\n[38626 rows x 3 columns]",
      "text/html": "<div>\n<style scoped>\n    .dataframe tbody tr th:only-of-type {\n        vertical-align: middle;\n    }\n\n    .dataframe tbody tr th {\n        vertical-align: top;\n    }\n\n    .dataframe thead th {\n        text-align: right;\n    }\n</style>\n<table border=\"1\" class=\"dataframe\">\n  <thead>\n    <tr style=\"text-align: right;\">\n      <th></th>\n      <th>datetime</th>\n      <th>user</th>\n      <th>score</th>\n    </tr>\n  </thead>\n  <tbody>\n    <tr>\n      <th>0</th>\n      <td>2022-01-09 20:05:02.667549</td>\n      <td>skip</td>\n      <td>0:41</td>\n    </tr>\n    <tr>\n      <th>1</th>\n      <td>2022-01-09 20:05:02.667549</td>\n      <td>beck</td>\n      <td>NaN</td>\n    </tr>\n    <tr>\n      <th>2</th>\n      <td>2022-01-09 20:05:02.667549</td>\n      <td>jenliz</td>\n      <td>NaN</td>\n    </tr>\n    <tr>\n      <th>3</th>\n      <td>2022-01-09 20:05:02.667549</td>\n      <td>lilli</td>\n      <td>NaN</td>\n    </tr>\n    <tr>\n      <th>4</th>\n      <td>2022-01-09 20:05:02.667549</td>\n      <td>marvin.kassabian</td>\n      <td>NaN</td>\n    </tr>\n    <tr>\n      <th>...</th>\n      <td>...</td>\n      <td>...</td>\n      <td>...</td>\n    </tr>\n    <tr>\n      <th>38621</th>\n      <td>2022-05-07 11:29:56.197510</td>\n      <td>beck</td>\n      <td>2:19</td>\n    </tr>\n    <tr>\n      <th>38622</th>\n      <td>2022-05-07 11:29:56.197510</td>\n      <td>jenliz</td>\n      <td>2:32</td>\n    </tr>\n    <tr>\n      <th>38623</th>\n      <td>2022-05-07 11:29:56.197510</td>\n      <td>lilli</td>\n      <td>NaN</td>\n    </tr>\n    <tr>\n      <th>38624</th>\n      <td>2022-05-07 11:29:56.197510</td>\n      <td>Scott</td>\n      <td>NaN</td>\n    </tr>\n    <tr>\n      <th>38625</th>\n      <td>2022-05-07 11:29:56.197510</td>\n      <td>skip</td>\n      <td>NaN</td>\n    </tr>\n  </tbody>\n</table>\n<p>38626 rows × 3 columns</p>\n</div>"
     },
     "execution_count": 2,
     "metadata": {},
     "output_type": "execute_result"
    }
   ],
   "source": [
    "scores_df = pd.read_csv('output.csv', header=None, names=['datetime', 'user', 'score'])\n",
    "scores_df['datetime']=scores_df['datetime'].apply(pd.to_datetime)\n",
    "scores_df"
   ],
   "metadata": {
    "collapsed": false,
    "pycharm": {
     "name": "#%%\n"
    }
   }
  },
  {
   "cell_type": "code",
   "execution_count": 13,
   "outputs": [],
   "source": [
    "from calendar import monthrange\n",
    "from datetime import datetime, timedelta\n",
    "\n",
    "def get_assigned_date(date: datetime):\n",
    "    if (date.weekday() <= 4 and date.hour >= 22) or (date.weekday() > 4 and date.hour >= 18):\n",
    "        return date.date() + timedelta(days=1)\n",
    "    return date.date()\n",
    "\n",
    "scores_df['crossword_datetime'] = scores_df['datetime'].apply(lambda row: get_assigned_date(row))"
   ],
   "metadata": {
    "collapsed": false,
    "pycharm": {
     "name": "#%%\n"
    }
   }
  },
  {
   "cell_type": "code",
   "execution_count": 14,
   "outputs": [
    {
     "data": {
      "text/plain": "                        datetime              user score crossword_datetime\n0     2022-01-09 20:05:02.667549              skip  0:41         2022-01-10\n1     2022-01-09 20:05:02.667549              beck   NaN         2022-01-10\n2     2022-01-09 20:05:02.667549            jenliz   NaN         2022-01-10\n3     2022-01-09 20:05:02.667549             lilli   NaN         2022-01-10\n4     2022-01-09 20:05:02.667549  marvin.kassabian   NaN         2022-01-10\n...                          ...               ...   ...                ...\n38621 2022-05-07 11:29:56.197510              beck  2:19         2022-05-07\n38622 2022-05-07 11:29:56.197510            jenliz  2:32         2022-05-07\n38623 2022-05-07 11:29:56.197510             lilli   NaN         2022-05-07\n38624 2022-05-07 11:29:56.197510             Scott   NaN         2022-05-07\n38625 2022-05-07 11:29:56.197510              skip   NaN         2022-05-07\n\n[38626 rows x 4 columns]",
      "text/html": "<div>\n<style scoped>\n    .dataframe tbody tr th:only-of-type {\n        vertical-align: middle;\n    }\n\n    .dataframe tbody tr th {\n        vertical-align: top;\n    }\n\n    .dataframe thead th {\n        text-align: right;\n    }\n</style>\n<table border=\"1\" class=\"dataframe\">\n  <thead>\n    <tr style=\"text-align: right;\">\n      <th></th>\n      <th>datetime</th>\n      <th>user</th>\n      <th>score</th>\n      <th>crossword_datetime</th>\n    </tr>\n  </thead>\n  <tbody>\n    <tr>\n      <th>0</th>\n      <td>2022-01-09 20:05:02.667549</td>\n      <td>skip</td>\n      <td>0:41</td>\n      <td>2022-01-10</td>\n    </tr>\n    <tr>\n      <th>1</th>\n      <td>2022-01-09 20:05:02.667549</td>\n      <td>beck</td>\n      <td>NaN</td>\n      <td>2022-01-10</td>\n    </tr>\n    <tr>\n      <th>2</th>\n      <td>2022-01-09 20:05:02.667549</td>\n      <td>jenliz</td>\n      <td>NaN</td>\n      <td>2022-01-10</td>\n    </tr>\n    <tr>\n      <th>3</th>\n      <td>2022-01-09 20:05:02.667549</td>\n      <td>lilli</td>\n      <td>NaN</td>\n      <td>2022-01-10</td>\n    </tr>\n    <tr>\n      <th>4</th>\n      <td>2022-01-09 20:05:02.667549</td>\n      <td>marvin.kassabian</td>\n      <td>NaN</td>\n      <td>2022-01-10</td>\n    </tr>\n    <tr>\n      <th>...</th>\n      <td>...</td>\n      <td>...</td>\n      <td>...</td>\n      <td>...</td>\n    </tr>\n    <tr>\n      <th>38621</th>\n      <td>2022-05-07 11:29:56.197510</td>\n      <td>beck</td>\n      <td>2:19</td>\n      <td>2022-05-07</td>\n    </tr>\n    <tr>\n      <th>38622</th>\n      <td>2022-05-07 11:29:56.197510</td>\n      <td>jenliz</td>\n      <td>2:32</td>\n      <td>2022-05-07</td>\n    </tr>\n    <tr>\n      <th>38623</th>\n      <td>2022-05-07 11:29:56.197510</td>\n      <td>lilli</td>\n      <td>NaN</td>\n      <td>2022-05-07</td>\n    </tr>\n    <tr>\n      <th>38624</th>\n      <td>2022-05-07 11:29:56.197510</td>\n      <td>Scott</td>\n      <td>NaN</td>\n      <td>2022-05-07</td>\n    </tr>\n    <tr>\n      <th>38625</th>\n      <td>2022-05-07 11:29:56.197510</td>\n      <td>skip</td>\n      <td>NaN</td>\n      <td>2022-05-07</td>\n    </tr>\n  </tbody>\n</table>\n<p>38626 rows × 4 columns</p>\n</div>"
     },
     "execution_count": 14,
     "metadata": {},
     "output_type": "execute_result"
    }
   ],
   "source": [
    "scores_df"
   ],
   "metadata": {
    "collapsed": false,
    "pycharm": {
     "name": "#%%\n"
    }
   }
  },
  {
   "cell_type": "code",
   "execution_count": null,
   "outputs": [],
   "source": [],
   "metadata": {
    "collapsed": false,
    "pycharm": {
     "name": "#%%\n"
    }
   }
  }
 ],
 "metadata": {
  "kernelspec": {
   "display_name": "Python 3",
   "language": "python",
   "name": "python3"
  },
  "language_info": {
   "codemirror_mode": {
    "name": "ipython",
    "version": 2
   },
   "file_extension": ".py",
   "mimetype": "text/x-python",
   "name": "python",
   "nbconvert_exporter": "python",
   "pygments_lexer": "ipython2",
   "version": "2.7.6"
  }
 },
 "nbformat": 4,
 "nbformat_minor": 0
}